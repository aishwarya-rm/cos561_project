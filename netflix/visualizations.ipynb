{
 "cells": [
  {
   "cell_type": "code",
   "execution_count": 1,
   "metadata": {},
   "outputs": [],
   "source": [
    "import seaborn as sns\n",
    "import json\n",
    "import matplotlib.pyplot as plt"
   ]
  },
  {
   "cell_type": "code",
   "execution_count": 2,
   "metadata": {},
   "outputs": [],
   "source": [
    "with open('sniff_data.json', 'r') as f:\n",
    "    ts = json.load(f)"
   ]
  },
  {
   "cell_type": "code",
   "execution_count": 3,
   "metadata": {},
   "outputs": [],
   "source": [
    "timestamps = []\n",
    "packet_lengths = []\n",
    "for t in ts:\n",
    "    timestamps.append(t['ts'])\n",
    "    packet_lengths.append(t['len'])\n",
    "data = list(zip(timestamps, packet_lengths))\n",
    "data = sorted(data, key=lambda x: x[0])\n",
    "\n",
    "accumulated_by_ts = {}\n",
    "for (t, length) in data:\n",
    "    if t not in accumulated_by_ts:\n",
    "        accumulated_by_ts[t] = length\n",
    "    else:\n",
    "        accumulated_by_ts[t] += length"
   ]
  },
  {
   "cell_type": "code",
   "execution_count": 4,
   "metadata": {},
   "outputs": [
    {
     "name": "stderr",
     "output_type": "stream",
     "text": [
      "/Users/aishwaryamandyam/anaconda3/envs/research/lib/python3.7/site-packages/seaborn/_decorators.py:43: FutureWarning: Pass the following variables as keyword args: x, y. From version 0.12, the only valid positional argument will be `data`, and passing other arguments without an explicit keyword will result in an error or misinterpretation.\n",
      "  FutureWarning\n"
     ]
    },
    {
     "data": {
      "text/plain": [
       "<AxesSubplot:title={'center':'Rate for Netflix'}, xlabel='Timestamp', ylabel='Rate'>"
      ]
     },
     "execution_count": 4,
     "metadata": {},
     "output_type": "execute_result"
    },
    {
     "data": {
      "image/png": "[encoded data removed]",
      "text/plain": [
       "<Figure size 432x288 with 1 Axes>"
      ]
     },
     "metadata": {
      "needs_background": "light"
     },
     "output_type": "display_data"
    }
   ],
   "source": [
    "timestamps = []\n",
    "rates = []\n",
    "items = list(accumulated_by_ts.items())\n",
    "for i in range(1, len(items)):\n",
    "    timestamps.append(items[i-1][0])\n",
    "    rates.append((items[i][0] - items[i-1][0])/items[i-1][1])\n",
    "plt.xlabel('Timestamp')\n",
    "plt.ylabel(\"Rate\")\n",
    "plt.title(\"Rate for Netflix\")\n",
    "sns.lineplot(timestamps, rates)"
   ]
  },
  {
   "cell_type": "code",
   "execution_count": null,
   "metadata": {},
   "outputs": [],
   "source": []
  }
 ],
 "metadata": {
  "kernelspec": {
   "display_name": "Python 3",
   "language": "python",
   "name": "python3"
  },
  "language_info": {
   "codemirror_mode": {
    "name": "ipython",
    "version": 3
   },
   "file_extension": ".py",
   "mimetype": "text/x-python",
   "name": "python",
   "nbconvert_exporter": "python",
   "pygments_lexer": "ipython3",
   "version": "3.7.5"
  },
  "toc": {
   "base_numbering": 1,
   "nav_menu": {},
   "number_sections": true,
   "sideBar": true,
   "skip_h1_title": false,
   "title_cell": "Table of Contents",
   "title_sidebar": "Contents",
   "toc_cell": false,
   "toc_position": {},
   "toc_section_display": true,
   "toc_window_display": false
  }
 },
 "nbformat": 4,
 "nbformat_minor": 4
}
